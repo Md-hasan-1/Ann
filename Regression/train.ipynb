{
 "cells": [
  {
   "cell_type": "code",
   "execution_count": 1,
   "metadata": {},
   "outputs": [],
   "source": [
    "import pandas as pd"
   ]
  },
  {
   "cell_type": "code",
   "execution_count": 2,
   "metadata": {},
   "outputs": [],
   "source": [
    "train_data = pd.read_csv(\"artifact/train.csv\").drop('Unnamed: 0', axis=1)\n",
    "test_data = pd.read_csv(\"artifact/test.csv\").drop('Unnamed: 0', axis=1)"
   ]
  },
  {
   "cell_type": "code",
   "execution_count": 3,
   "metadata": {},
   "outputs": [
    {
     "data": {
      "text/html": [
       "<div>\n",
       "<style scoped>\n",
       "    .dataframe tbody tr th:only-of-type {\n",
       "        vertical-align: middle;\n",
       "    }\n",
       "\n",
       "    .dataframe tbody tr th {\n",
       "        vertical-align: top;\n",
       "    }\n",
       "\n",
       "    .dataframe thead th {\n",
       "        text-align: right;\n",
       "    }\n",
       "</style>\n",
       "<table border=\"1\" class=\"dataframe\">\n",
       "  <thead>\n",
       "    <tr style=\"text-align: right;\">\n",
       "      <th></th>\n",
       "      <th>0</th>\n",
       "      <th>1</th>\n",
       "      <th>2</th>\n",
       "      <th>3</th>\n",
       "      <th>4</th>\n",
       "      <th>5</th>\n",
       "      <th>6</th>\n",
       "      <th>7</th>\n",
       "      <th>8</th>\n",
       "      <th>9</th>\n",
       "      <th>10</th>\n",
       "      <th>11</th>\n",
       "    </tr>\n",
       "  </thead>\n",
       "  <tbody>\n",
       "    <tr>\n",
       "      <th>0</th>\n",
       "      <td>-0.668091</td>\n",
       "      <td>-0.560924</td>\n",
       "      <td>-0.003865</td>\n",
       "      <td>0.384829</td>\n",
       "      <td>-0.909157</td>\n",
       "      <td>0.650085</td>\n",
       "      <td>-1.025663</td>\n",
       "      <td>0.0</td>\n",
       "      <td>0.0</td>\n",
       "      <td>1.0</td>\n",
       "      <td>0.0</td>\n",
       "      <td>34215.58</td>\n",
       "    </tr>\n",
       "    <tr>\n",
       "      <th>1</th>\n",
       "      <td>-1.364192</td>\n",
       "      <td>0.582911</td>\n",
       "      <td>-1.384072</td>\n",
       "      <td>0.754188</td>\n",
       "      <td>-0.909157</td>\n",
       "      <td>0.650085</td>\n",
       "      <td>0.974980</td>\n",
       "      <td>1.0</td>\n",
       "      <td>0.0</td>\n",
       "      <td>0.0</td>\n",
       "      <td>1.0</td>\n",
       "      <td>41042.40</td>\n",
       "    </tr>\n",
       "    <tr>\n",
       "      <th>2</th>\n",
       "      <td>-1.644710</td>\n",
       "      <td>0.868870</td>\n",
       "      <td>0.686239</td>\n",
       "      <td>-1.225087</td>\n",
       "      <td>0.801929</td>\n",
       "      <td>0.650085</td>\n",
       "      <td>-1.025663</td>\n",
       "      <td>0.0</td>\n",
       "      <td>1.0</td>\n",
       "      <td>0.0</td>\n",
       "      <td>0.0</td>\n",
       "      <td>48545.10</td>\n",
       "    </tr>\n",
       "    <tr>\n",
       "      <th>3</th>\n",
       "      <td>0.828005</td>\n",
       "      <td>0.010994</td>\n",
       "      <td>-1.039020</td>\n",
       "      <td>0.814164</td>\n",
       "      <td>-0.909157</td>\n",
       "      <td>0.650085</td>\n",
       "      <td>0.974980</td>\n",
       "      <td>0.0</td>\n",
       "      <td>1.0</td>\n",
       "      <td>0.0</td>\n",
       "      <td>0.0</td>\n",
       "      <td>74850.93</td>\n",
       "    </tr>\n",
       "    <tr>\n",
       "      <th>4</th>\n",
       "      <td>0.848784</td>\n",
       "      <td>0.296952</td>\n",
       "      <td>1.376343</td>\n",
       "      <td>1.195125</td>\n",
       "      <td>-0.909157</td>\n",
       "      <td>-1.538261</td>\n",
       "      <td>0.974980</td>\n",
       "      <td>0.0</td>\n",
       "      <td>0.0</td>\n",
       "      <td>1.0</td>\n",
       "      <td>0.0</td>\n",
       "      <td>169964.12</td>\n",
       "    </tr>\n",
       "  </tbody>\n",
       "</table>\n",
       "</div>"
      ],
      "text/plain": [
       "          0         1         2         3         4         5         6    7  \\\n",
       "0 -0.668091 -0.560924 -0.003865  0.384829 -0.909157  0.650085 -1.025663  0.0   \n",
       "1 -1.364192  0.582911 -1.384072  0.754188 -0.909157  0.650085  0.974980  1.0   \n",
       "2 -1.644710  0.868870  0.686239 -1.225087  0.801929  0.650085 -1.025663  0.0   \n",
       "3  0.828005  0.010994 -1.039020  0.814164 -0.909157  0.650085  0.974980  0.0   \n",
       "4  0.848784  0.296952  1.376343  1.195125 -0.909157 -1.538261  0.974980  0.0   \n",
       "\n",
       "     8    9   10         11  \n",
       "0  0.0  1.0  0.0   34215.58  \n",
       "1  0.0  0.0  1.0   41042.40  \n",
       "2  1.0  0.0  0.0   48545.10  \n",
       "3  1.0  0.0  0.0   74850.93  \n",
       "4  0.0  1.0  0.0  169964.12  "
      ]
     },
     "execution_count": 3,
     "metadata": {},
     "output_type": "execute_result"
    }
   ],
   "source": [
    "train_data.head()"
   ]
  },
  {
   "cell_type": "code",
   "execution_count": 4,
   "metadata": {},
   "outputs": [],
   "source": [
    "X_train, y_train, X_test, y_test = (train_data.drop(\"11\", axis=1), train_data[\"11\"], \n",
    "                                    test_data.drop(\"11\", axis=1), test_data[\"11\"])"
   ]
  },
  {
   "cell_type": "code",
   "execution_count": 5,
   "metadata": {},
   "outputs": [
    {
     "data": {
      "text/html": [
       "<div>\n",
       "<style scoped>\n",
       "    .dataframe tbody tr th:only-of-type {\n",
       "        vertical-align: middle;\n",
       "    }\n",
       "\n",
       "    .dataframe tbody tr th {\n",
       "        vertical-align: top;\n",
       "    }\n",
       "\n",
       "    .dataframe thead th {\n",
       "        text-align: right;\n",
       "    }\n",
       "</style>\n",
       "<table border=\"1\" class=\"dataframe\">\n",
       "  <thead>\n",
       "    <tr style=\"text-align: right;\">\n",
       "      <th></th>\n",
       "      <th>0</th>\n",
       "      <th>1</th>\n",
       "      <th>2</th>\n",
       "      <th>3</th>\n",
       "      <th>4</th>\n",
       "      <th>5</th>\n",
       "      <th>6</th>\n",
       "      <th>7</th>\n",
       "      <th>8</th>\n",
       "      <th>9</th>\n",
       "      <th>10</th>\n",
       "    </tr>\n",
       "  </thead>\n",
       "  <tbody>\n",
       "    <tr>\n",
       "      <th>0</th>\n",
       "      <td>-0.668091</td>\n",
       "      <td>-0.560924</td>\n",
       "      <td>-0.003865</td>\n",
       "      <td>0.384829</td>\n",
       "      <td>-0.909157</td>\n",
       "      <td>0.650085</td>\n",
       "      <td>-1.025663</td>\n",
       "      <td>0.0</td>\n",
       "      <td>0.0</td>\n",
       "      <td>1.0</td>\n",
       "      <td>0.0</td>\n",
       "    </tr>\n",
       "    <tr>\n",
       "      <th>1</th>\n",
       "      <td>-1.364192</td>\n",
       "      <td>0.582911</td>\n",
       "      <td>-1.384072</td>\n",
       "      <td>0.754188</td>\n",
       "      <td>-0.909157</td>\n",
       "      <td>0.650085</td>\n",
       "      <td>0.974980</td>\n",
       "      <td>1.0</td>\n",
       "      <td>0.0</td>\n",
       "      <td>0.0</td>\n",
       "      <td>1.0</td>\n",
       "    </tr>\n",
       "    <tr>\n",
       "      <th>2</th>\n",
       "      <td>-1.644710</td>\n",
       "      <td>0.868870</td>\n",
       "      <td>0.686239</td>\n",
       "      <td>-1.225087</td>\n",
       "      <td>0.801929</td>\n",
       "      <td>0.650085</td>\n",
       "      <td>-1.025663</td>\n",
       "      <td>0.0</td>\n",
       "      <td>1.0</td>\n",
       "      <td>0.0</td>\n",
       "      <td>0.0</td>\n",
       "    </tr>\n",
       "    <tr>\n",
       "      <th>3</th>\n",
       "      <td>0.828005</td>\n",
       "      <td>0.010994</td>\n",
       "      <td>-1.039020</td>\n",
       "      <td>0.814164</td>\n",
       "      <td>-0.909157</td>\n",
       "      <td>0.650085</td>\n",
       "      <td>0.974980</td>\n",
       "      <td>0.0</td>\n",
       "      <td>1.0</td>\n",
       "      <td>0.0</td>\n",
       "      <td>0.0</td>\n",
       "    </tr>\n",
       "    <tr>\n",
       "      <th>4</th>\n",
       "      <td>0.848784</td>\n",
       "      <td>0.296952</td>\n",
       "      <td>1.376343</td>\n",
       "      <td>1.195125</td>\n",
       "      <td>-0.909157</td>\n",
       "      <td>-1.538261</td>\n",
       "      <td>0.974980</td>\n",
       "      <td>0.0</td>\n",
       "      <td>0.0</td>\n",
       "      <td>1.0</td>\n",
       "      <td>0.0</td>\n",
       "    </tr>\n",
       "  </tbody>\n",
       "</table>\n",
       "</div>"
      ],
      "text/plain": [
       "          0         1         2         3         4         5         6    7  \\\n",
       "0 -0.668091 -0.560924 -0.003865  0.384829 -0.909157  0.650085 -1.025663  0.0   \n",
       "1 -1.364192  0.582911 -1.384072  0.754188 -0.909157  0.650085  0.974980  1.0   \n",
       "2 -1.644710  0.868870  0.686239 -1.225087  0.801929  0.650085 -1.025663  0.0   \n",
       "3  0.828005  0.010994 -1.039020  0.814164 -0.909157  0.650085  0.974980  0.0   \n",
       "4  0.848784  0.296952  1.376343  1.195125 -0.909157 -1.538261  0.974980  0.0   \n",
       "\n",
       "     8    9   10  \n",
       "0  0.0  1.0  0.0  \n",
       "1  0.0  0.0  1.0  \n",
       "2  1.0  0.0  0.0  \n",
       "3  1.0  0.0  0.0  \n",
       "4  0.0  1.0  0.0  "
      ]
     },
     "execution_count": 5,
     "metadata": {},
     "output_type": "execute_result"
    }
   ],
   "source": [
    "X_train.head()"
   ]
  },
  {
   "cell_type": "code",
   "execution_count": 7,
   "metadata": {},
   "outputs": [],
   "source": [
    "import tensorflow as tf"
   ]
  },
  {
   "cell_type": "code",
   "execution_count": 8,
   "metadata": {},
   "outputs": [
    {
     "data": {
      "text/plain": [
       "(11,)"
      ]
     },
     "execution_count": 8,
     "metadata": {},
     "output_type": "execute_result"
    }
   ],
   "source": [
    "(X_train.shape[1],)"
   ]
  },
  {
   "cell_type": "code",
   "execution_count": 9,
   "metadata": {},
   "outputs": [
    {
     "name": "stdout",
     "output_type": "stream",
     "text": [
      "Model: \"sequential\"\n",
      "_________________________________________________________________\n",
      " Layer (type)                Output Shape              Param #   \n",
      "=================================================================\n",
      " dense (Dense)               (None, 64)                768       \n",
      "                                                                 \n",
      " dense_1 (Dense)             (None, 32)                2080      \n",
      "                                                                 \n",
      " dense_2 (Dense)             (None, 1)                 33        \n",
      "                                                                 \n",
      "=================================================================\n",
      "Total params: 2881 (11.25 KB)\n",
      "Trainable params: 2881 (11.25 KB)\n",
      "Non-trainable params: 0 (0.00 Byte)\n",
      "_________________________________________________________________\n"
     ]
    }
   ],
   "source": [
    "model = tf.keras.Sequential(\n",
    "    [\n",
    "        tf.keras.layers.Dense(64, \"relu\", input_shape =(X_train.shape[1],)),\n",
    "        tf.keras.layers.Dense(32, \"relu\"),\n",
    "        tf.keras.layers.Dense(1, \"sigmoid\")\n",
    "    ]\n",
    ")\n",
    "\n",
    "model.compile(optimizer=\"adam\", loss=\"mean_absolute_error\", metrics=\"mae\")\n",
    "model.summary()"
   ]
  },
  {
   "cell_type": "code",
   "execution_count": 12,
   "metadata": {},
   "outputs": [],
   "source": [
    "model.save(\"artifact/reg.h5\")"
   ]
  },
  {
   "cell_type": "code",
   "execution_count": null,
   "metadata": {},
   "outputs": [],
   "source": []
  }
 ],
 "metadata": {
  "kernelspec": {
   "display_name": "Python 3",
   "language": "python",
   "name": "python3"
  },
  "language_info": {
   "codemirror_mode": {
    "name": "ipython",
    "version": 3
   },
   "file_extension": ".py",
   "mimetype": "text/x-python",
   "name": "python",
   "nbconvert_exporter": "python",
   "pygments_lexer": "ipython3",
   "version": "3.8.20"
  }
 },
 "nbformat": 4,
 "nbformat_minor": 2
}
