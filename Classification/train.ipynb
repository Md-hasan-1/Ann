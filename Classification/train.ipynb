{
 "cells": [
  {
   "cell_type": "code",
   "execution_count": 1,
   "metadata": {},
   "outputs": [],
   "source": [
    "import pandas as pd"
   ]
  },
  {
   "cell_type": "code",
   "execution_count": 2,
   "metadata": {},
   "outputs": [],
   "source": [
    "train_data = pd.read_csv(\"artifact/train.csv\").drop('Unnamed: 0', axis=1)\n",
    "test_data = pd.read_csv(\"artifact/test.csv\").drop('Unnamed: 0', axis=1)"
   ]
  },
  {
   "cell_type": "code",
   "execution_count": 3,
   "metadata": {},
   "outputs": [
    {
     "data": {
      "text/html": [
       "<div>\n",
       "<style scoped>\n",
       "    .dataframe tbody tr th:only-of-type {\n",
       "        vertical-align: middle;\n",
       "    }\n",
       "\n",
       "    .dataframe tbody tr th {\n",
       "        vertical-align: top;\n",
       "    }\n",
       "\n",
       "    .dataframe thead th {\n",
       "        text-align: right;\n",
       "    }\n",
       "</style>\n",
       "<table border=\"1\" class=\"dataframe\">\n",
       "  <thead>\n",
       "    <tr style=\"text-align: right;\">\n",
       "      <th></th>\n",
       "      <th>0</th>\n",
       "      <th>1</th>\n",
       "      <th>2</th>\n",
       "      <th>3</th>\n",
       "      <th>4</th>\n",
       "      <th>5</th>\n",
       "      <th>6</th>\n",
       "      <th>7</th>\n",
       "      <th>8</th>\n",
       "      <th>9</th>\n",
       "      <th>10</th>\n",
       "      <th>11</th>\n",
       "    </tr>\n",
       "  </thead>\n",
       "  <tbody>\n",
       "    <tr>\n",
       "      <th>0</th>\n",
       "      <td>1.458191</td>\n",
       "      <td>-0.850399</td>\n",
       "      <td>1.024061</td>\n",
       "      <td>-1.226400</td>\n",
       "      <td>0.813269</td>\n",
       "      <td>0.644071</td>\n",
       "      <td>-1.040555</td>\n",
       "      <td>1.740644</td>\n",
       "      <td>0.0</td>\n",
       "      <td>0.0</td>\n",
       "      <td>1.0</td>\n",
       "      <td>0.0</td>\n",
       "    </tr>\n",
       "    <tr>\n",
       "      <th>1</th>\n",
       "      <td>-1.694549</td>\n",
       "      <td>1.324421</td>\n",
       "      <td>1.716461</td>\n",
       "      <td>0.206560</td>\n",
       "      <td>-0.907328</td>\n",
       "      <td>-1.552624</td>\n",
       "      <td>0.961026</td>\n",
       "      <td>-0.169748</td>\n",
       "      <td>0.0</td>\n",
       "      <td>0.0</td>\n",
       "      <td>0.0</td>\n",
       "      <td>0.0</td>\n",
       "    </tr>\n",
       "    <tr>\n",
       "      <th>2</th>\n",
       "      <td>0.951685</td>\n",
       "      <td>-1.323186</td>\n",
       "      <td>0.331660</td>\n",
       "      <td>-1.226400</td>\n",
       "      <td>0.813269</td>\n",
       "      <td>0.644071</td>\n",
       "      <td>-1.040555</td>\n",
       "      <td>0.521812</td>\n",
       "      <td>0.0</td>\n",
       "      <td>1.0</td>\n",
       "      <td>1.0</td>\n",
       "      <td>0.0</td>\n",
       "    </tr>\n",
       "    <tr>\n",
       "      <th>3</th>\n",
       "      <td>-1.053664</td>\n",
       "      <td>-0.472169</td>\n",
       "      <td>0.331660</td>\n",
       "      <td>2.038211</td>\n",
       "      <td>0.813269</td>\n",
       "      <td>0.644071</td>\n",
       "      <td>-1.040555</td>\n",
       "      <td>0.169578</td>\n",
       "      <td>1.0</td>\n",
       "      <td>0.0</td>\n",
       "      <td>1.0</td>\n",
       "      <td>0.0</td>\n",
       "    </tr>\n",
       "    <tr>\n",
       "      <th>4</th>\n",
       "      <td>-2.128697</td>\n",
       "      <td>-0.188497</td>\n",
       "      <td>-0.706941</td>\n",
       "      <td>-1.226400</td>\n",
       "      <td>0.813269</td>\n",
       "      <td>0.644071</td>\n",
       "      <td>0.961026</td>\n",
       "      <td>1.398348</td>\n",
       "      <td>0.0</td>\n",
       "      <td>0.0</td>\n",
       "      <td>1.0</td>\n",
       "      <td>0.0</td>\n",
       "    </tr>\n",
       "  </tbody>\n",
       "</table>\n",
       "</div>"
      ],
      "text/plain": [
       "          0         1         2         3         4         5         6  \\\n",
       "0  1.458191 -0.850399  1.024061 -1.226400  0.813269  0.644071 -1.040555   \n",
       "1 -1.694549  1.324421  1.716461  0.206560 -0.907328 -1.552624  0.961026   \n",
       "2  0.951685 -1.323186  0.331660 -1.226400  0.813269  0.644071 -1.040555   \n",
       "3 -1.053664 -0.472169  0.331660  2.038211  0.813269  0.644071 -1.040555   \n",
       "4 -2.128697 -0.188497 -0.706941 -1.226400  0.813269  0.644071  0.961026   \n",
       "\n",
       "          7    8    9   10   11  \n",
       "0  1.740644  0.0  0.0  1.0  0.0  \n",
       "1 -0.169748  0.0  0.0  0.0  0.0  \n",
       "2  0.521812  0.0  1.0  1.0  0.0  \n",
       "3  0.169578  1.0  0.0  1.0  0.0  \n",
       "4  1.398348  0.0  0.0  1.0  0.0  "
      ]
     },
     "execution_count": 3,
     "metadata": {},
     "output_type": "execute_result"
    }
   ],
   "source": [
    "train_data.head()"
   ]
  },
  {
   "cell_type": "code",
   "execution_count": 4,
   "metadata": {},
   "outputs": [],
   "source": [
    "X_train, y_train, X_test, y_test = (train_data.drop(\"11\", axis=1), train_data[\"11\"], \n",
    "                                    test_data.drop(\"11\", axis=1), test_data[\"11\"])"
   ]
  },
  {
   "cell_type": "code",
   "execution_count": 5,
   "metadata": {},
   "outputs": [
    {
     "data": {
      "text/html": [
       "<div>\n",
       "<style scoped>\n",
       "    .dataframe tbody tr th:only-of-type {\n",
       "        vertical-align: middle;\n",
       "    }\n",
       "\n",
       "    .dataframe tbody tr th {\n",
       "        vertical-align: top;\n",
       "    }\n",
       "\n",
       "    .dataframe thead th {\n",
       "        text-align: right;\n",
       "    }\n",
       "</style>\n",
       "<table border=\"1\" class=\"dataframe\">\n",
       "  <thead>\n",
       "    <tr style=\"text-align: right;\">\n",
       "      <th></th>\n",
       "      <th>0</th>\n",
       "      <th>1</th>\n",
       "      <th>2</th>\n",
       "      <th>3</th>\n",
       "      <th>4</th>\n",
       "      <th>5</th>\n",
       "      <th>6</th>\n",
       "      <th>7</th>\n",
       "      <th>8</th>\n",
       "      <th>9</th>\n",
       "      <th>10</th>\n",
       "    </tr>\n",
       "  </thead>\n",
       "  <tbody>\n",
       "    <tr>\n",
       "      <th>0</th>\n",
       "      <td>1.458191</td>\n",
       "      <td>-0.850399</td>\n",
       "      <td>1.024061</td>\n",
       "      <td>-1.226400</td>\n",
       "      <td>0.813269</td>\n",
       "      <td>0.644071</td>\n",
       "      <td>-1.040555</td>\n",
       "      <td>1.740644</td>\n",
       "      <td>0.0</td>\n",
       "      <td>0.0</td>\n",
       "      <td>1.0</td>\n",
       "    </tr>\n",
       "    <tr>\n",
       "      <th>1</th>\n",
       "      <td>-1.694549</td>\n",
       "      <td>1.324421</td>\n",
       "      <td>1.716461</td>\n",
       "      <td>0.206560</td>\n",
       "      <td>-0.907328</td>\n",
       "      <td>-1.552624</td>\n",
       "      <td>0.961026</td>\n",
       "      <td>-0.169748</td>\n",
       "      <td>0.0</td>\n",
       "      <td>0.0</td>\n",
       "      <td>0.0</td>\n",
       "    </tr>\n",
       "    <tr>\n",
       "      <th>2</th>\n",
       "      <td>0.951685</td>\n",
       "      <td>-1.323186</td>\n",
       "      <td>0.331660</td>\n",
       "      <td>-1.226400</td>\n",
       "      <td>0.813269</td>\n",
       "      <td>0.644071</td>\n",
       "      <td>-1.040555</td>\n",
       "      <td>0.521812</td>\n",
       "      <td>0.0</td>\n",
       "      <td>1.0</td>\n",
       "      <td>1.0</td>\n",
       "    </tr>\n",
       "    <tr>\n",
       "      <th>3</th>\n",
       "      <td>-1.053664</td>\n",
       "      <td>-0.472169</td>\n",
       "      <td>0.331660</td>\n",
       "      <td>2.038211</td>\n",
       "      <td>0.813269</td>\n",
       "      <td>0.644071</td>\n",
       "      <td>-1.040555</td>\n",
       "      <td>0.169578</td>\n",
       "      <td>1.0</td>\n",
       "      <td>0.0</td>\n",
       "      <td>1.0</td>\n",
       "    </tr>\n",
       "    <tr>\n",
       "      <th>4</th>\n",
       "      <td>-2.128697</td>\n",
       "      <td>-0.188497</td>\n",
       "      <td>-0.706941</td>\n",
       "      <td>-1.226400</td>\n",
       "      <td>0.813269</td>\n",
       "      <td>0.644071</td>\n",
       "      <td>0.961026</td>\n",
       "      <td>1.398348</td>\n",
       "      <td>0.0</td>\n",
       "      <td>0.0</td>\n",
       "      <td>1.0</td>\n",
       "    </tr>\n",
       "  </tbody>\n",
       "</table>\n",
       "</div>"
      ],
      "text/plain": [
       "          0         1         2         3         4         5         6  \\\n",
       "0  1.458191 -0.850399  1.024061 -1.226400  0.813269  0.644071 -1.040555   \n",
       "1 -1.694549  1.324421  1.716461  0.206560 -0.907328 -1.552624  0.961026   \n",
       "2  0.951685 -1.323186  0.331660 -1.226400  0.813269  0.644071 -1.040555   \n",
       "3 -1.053664 -0.472169  0.331660  2.038211  0.813269  0.644071 -1.040555   \n",
       "4 -2.128697 -0.188497 -0.706941 -1.226400  0.813269  0.644071  0.961026   \n",
       "\n",
       "          7    8    9   10  \n",
       "0  1.740644  0.0  0.0  1.0  \n",
       "1 -0.169748  0.0  0.0  0.0  \n",
       "2  0.521812  0.0  1.0  1.0  \n",
       "3  0.169578  1.0  0.0  1.0  \n",
       "4  1.398348  0.0  0.0  1.0  "
      ]
     },
     "execution_count": 5,
     "metadata": {},
     "output_type": "execute_result"
    }
   ],
   "source": [
    "X_train.head()"
   ]
  },
  {
   "cell_type": "code",
   "execution_count": 6,
   "metadata": {},
   "outputs": [
    {
     "data": {
      "text/plain": [
       "11\n",
       "0.0    5984\n",
       "1.0    1516\n",
       "Name: count, dtype: int64"
      ]
     },
     "execution_count": 6,
     "metadata": {},
     "output_type": "execute_result"
    }
   ],
   "source": [
    "y_train.value_counts()"
   ]
  },
  {
   "cell_type": "code",
   "execution_count": 7,
   "metadata": {},
   "outputs": [],
   "source": [
    "import tensorflow as tf"
   ]
  },
  {
   "cell_type": "code",
   "execution_count": 8,
   "metadata": {},
   "outputs": [
    {
     "data": {
      "text/plain": [
       "(11,)"
      ]
     },
     "execution_count": 8,
     "metadata": {},
     "output_type": "execute_result"
    }
   ],
   "source": [
    "(X_train.shape[1],)"
   ]
  },
  {
   "cell_type": "code",
   "execution_count": 9,
   "metadata": {},
   "outputs": [
    {
     "name": "stdout",
     "output_type": "stream",
     "text": [
      "Model: \"sequential\"\n",
      "_________________________________________________________________\n",
      " Layer (type)                Output Shape              Param #   \n",
      "=================================================================\n",
      " dense (Dense)               (None, 64)                768       \n",
      "                                                                 \n",
      " dense_1 (Dense)             (None, 32)                2080      \n",
      "                                                                 \n",
      " dense_2 (Dense)             (None, 1)                 33        \n",
      "                                                                 \n",
      "=================================================================\n",
      "Total params: 2881 (11.25 KB)\n",
      "Trainable params: 2881 (11.25 KB)\n",
      "Non-trainable params: 0 (0.00 Byte)\n",
      "_________________________________________________________________\n"
     ]
    }
   ],
   "source": [
    "model = tf.keras.Sequential(\n",
    "    [\n",
    "        tf.keras.layers.Dense(64, \"relu\", input_shape =(X_train.shape[1],)),\n",
    "        tf.keras.layers.Dense(32, \"relu\"),\n",
    "        tf.keras.layers.Dense(1, \"sigmoid\")\n",
    "    ]\n",
    ")\n",
    "\n",
    "model.compile(optimizer=\"adam\", loss=\"mean_absolute_error\", metrics=\"mae\")\n",
    "model.summary()"
   ]
  },
  {
   "cell_type": "code",
   "execution_count": 10,
   "metadata": {},
   "outputs": [
    {
     "name": "stderr",
     "output_type": "stream",
     "text": [
      "c:\\Users\\hasan\\Documents\\DS\\Udemy\\DL\\ANN\\evrironment\\dlenv\\lib\\site-packages\\keras\\src\\engine\\training.py:3000: UserWarning: You are saving your model as an HDF5 file via `model.save()`. This file format is considered legacy. We recommend using instead the native Keras format, e.g. `model.save('my_model.keras')`.\n",
      "  saving_api.save_model(\n"
     ]
    }
   ],
   "source": [
    "model.save(\"artifact/class.h5\")"
   ]
  },
  {
   "cell_type": "code",
   "execution_count": null,
   "metadata": {},
   "outputs": [],
   "source": []
  }
 ],
 "metadata": {
  "kernelspec": {
   "display_name": "Python 3",
   "language": "python",
   "name": "python3"
  },
  "language_info": {
   "codemirror_mode": {
    "name": "ipython",
    "version": 3
   },
   "file_extension": ".py",
   "mimetype": "text/x-python",
   "name": "python",
   "nbconvert_exporter": "python",
   "pygments_lexer": "ipython3",
   "version": "3.8.20"
  }
 },
 "nbformat": 4,
 "nbformat_minor": 2
}
